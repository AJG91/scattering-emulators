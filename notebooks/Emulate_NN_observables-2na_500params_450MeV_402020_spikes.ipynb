{
 "cells": [
  {
   "cell_type": "markdown",
   "id": "676bfee9",
   "metadata": {},
   "source": [
    "# Purpose\n",
    "The purpose of this notebook is to emulate the SMS (semi-local momentum space) chiral potential using the NVP and KVP emulators. The potential has units of fm."
   ]
  },
  {
   "cell_type": "markdown",
   "id": "836bab70",
   "metadata": {},
   "source": [
    "# Notebook Setup\n",
    "\n",
    "## Importing Python libraries"
   ]
  },
  {
   "cell_type": "code",
   "execution_count": 1,
   "id": "2ce96e29",
   "metadata": {},
   "outputs": [],
   "source": [
    "import numpy as np\n",
    "from numpy.typing import ArrayLike\n",
    "from typing import Union, Optional\n",
    "from ruamel.yaml import YAML\n",
    "import matplotlib.pyplot as plt\n",
    "from mpl_toolkits.axes_grid1.inset_locator import inset_axes\n",
    "import h5py\n",
    "\n",
    "%matplotlib inline\n",
    "%load_ext autoreload    \n",
    "%autoreload 2"
   ]
  },
  {
   "cell_type": "markdown",
   "id": "35906367",
   "metadata": {},
   "source": [
    "## Importing local libraries"
   ]
  },
  {
   "cell_type": "code",
   "execution_count": 2,
   "id": "66602762",
   "metadata": {},
   "outputs": [],
   "source": [
    "from emulate_kvp import setup_rc_params, plot_results\n",
    "from emulate_kvp import plot_cross_section\n",
    "from emulate_kvp import compute_errors\n",
    "from emulate_kvp.utils import compute_mixed_S\n",
    "from emulate_kvp.plots import plot_errors_spikes\n",
    "\n",
    "from emulate_kvp import LHS_setup\n",
    "from emulate_kvp import KVP_emulator\n",
    "from emulate_kvp import Observables\n",
    "from emulate_kvp import EmulateCrossSection\n",
    "\n",
    "from emulate_nvp import BoundaryCondition\n",
    "from emulate_nvp import ScatteringSystem\n",
    "from emulate_nvp import TwoBodyScattering as NVP_emulator\n",
    "from emulate_nvp import ObservablesEmulator"
   ]
  },
  {
   "cell_type": "markdown",
   "id": "27d6feca",
   "metadata": {},
   "source": [
    "# Emulator setup"
   ]
  },
  {
   "cell_type": "markdown",
   "id": "a739fbbe",
   "metadata": {},
   "source": [
    "## Parameters"
   ]
  },
  {
   "cell_type": "code",
   "execution_count": 3,
   "id": "b5b237dd",
   "metadata": {},
   "outputs": [],
   "source": [
    "### PLOTTING ###\n",
    "setup_rc_params(dpi=800)\n",
    "\n",
    "### LHS PARAMETERS ###\n",
    "mult_factor = 2 # Used to basis size: mult_factor * len(lecs) per partial wave\n",
    "num_test = 500 # Size of testing arrays for emulator\n",
    "vary_params = [-5, 5] # Range used for sampling parameter sets\n",
    "\n",
    "### EMULATOR PARAMETERS ###\n",
    "inc_param = False # If True, includes testing parameter set in training portion\n",
    "emu_method = 'K' # Boundary conditions for emulator: 'K', '1/K', 'T', 'S', 'all'\n",
    "solver = 'lstsq' # How to solve for prediction: 'lstsq', 'solve', 'pinv'\n",
    "nugget = 1e-10 # Nugget for emulator calculations\n",
    "seed = 1 # Random number seed for reproducibility"
   ]
  },
  {
   "cell_type": "markdown",
   "id": "be8c7d41",
   "metadata": {},
   "source": [
    "## Unpack potentials from h5 file for training"
   ]
  },
  {
   "cell_type": "code",
   "execution_count": 4,
   "id": "5d707066",
   "metadata": {},
   "outputs": [],
   "source": [
    "file_name = '../data/SMS_n4lo+_Lambda450MeV_jmax-20_np_5_036_402020.h5'\n",
    "\n",
    "with h5py.File(file_name, \"r\") as f:\n",
    "    jmax = int(f['jmax'][...])\n",
    "    chiral_order = int(f['chiral_order'][...])\n",
    "    cutoff = int(f['cutoff'][...])\n",
    "    interaction = str(f['interaction'][...])[2:-1]\n",
    "    \n",
    "    E = f['E'][...]\n",
    "    k = f['k'][...]\n",
    "    degrees = f['degrees'][...]\n",
    "    ps = f['ps'][...]\n",
    "    ws = f['ws'][...]\n",
    "    mesh_nodes = f['mesh_nodes'][...]\n",
    "    pts_per_region = f['pts_per_region'][...]\n",
    "    \n",
    "    V_1S0 = f['V_1S0'][...]\n",
    "    V0_1S0 = f['V0_1S0'][...]\n",
    "    V1_1S0 = f['V1_1S0'][...]\n",
    "    V_3P0 = f['V_3P0'][...]\n",
    "    V0_3P0 = f['V0_3P0'][...]\n",
    "    V1_3P0 = f['V1_3P0'][...]\n",
    "    V_1P1 = f['V_1P1'][...]\n",
    "    V0_1P1 = f['V0_1P1'][...]\n",
    "    V1_1P1 = f['V1_1P1'][...]\n",
    "    V_3P1 = f['V_3P1'][...]\n",
    "    V0_3P1 = f['V0_3P1'][...]\n",
    "    V1_3P1 = f['V1_3P1'][...]\n",
    "    V_1D2 = f['V_1D2'][...]\n",
    "    V0_1D2 = f['V0_1D2'][...]\n",
    "    V1_1D2 = f['V1_1D2'][...]\n",
    "    V_3D2 = f['V_3D2'][...]\n",
    "    V0_3D2 = f['V0_3D2'][...]\n",
    "    V1_3D2 = f['V1_3D2'][...]\n",
    "    V_1F3 = f['V_1F3'][...]\n",
    "    V0_1F3 = f['V0_1F3'][...]\n",
    "    V1_1F3 = f['V1_1F3'][...]\n",
    "    V_3F3 = f['V_3F3'][...]\n",
    "    V0_3F3 = f['V0_3F3'][...]\n",
    "    V1_3F3 = f['V1_3F3'][...]\n",
    "    V_1 = f['V_1'][...]\n",
    "    V_2 = f['V_2'][...]\n",
    "    V_3S1_3D1 = f['V_3S1_3D1'][...]\n",
    "    V0_3S1_3D1 = f['V0_3S1_3D1'][...]\n",
    "    V1_3S1_3D1 = f['V1_3S1_3D1'][...]\n",
    "    V_3P2_3F2 = f['V_3P2_3F2'][...]\n",
    "    V0_3P2_3F2 = f['V0_3P2_3F2'][...]\n",
    "    V1_3P2_3F2 = f['V1_3P2_3F2'][...]\n",
    "    V_3D3_3G3 = f['V_3D3_3G3'][...]\n",
    "    V0_3D3_3G3 = f['V0_3D3_3G3'][...]\n",
    "    V1_3D3_3G3 = f['V1_3D3_3G3'][...]\n",
    "    V_3F4_3H4 = f['V_3F4_3H4'][...]\n",
    "    V0_3F4_3H4 = f['V0_3F4_3H4'][...]\n",
    "    V1_3F4_3H4 = f['V1_3F4_3H4'][...]\n",
    "    V_no_contacts = f['V_no_contacts'][...]"
   ]
  },
  {
   "cell_type": "code",
   "execution_count": 5,
   "id": "9e42a467",
   "metadata": {},
   "outputs": [],
   "source": [
    "V_no_contacts_reshape = np.reshape(V_no_contacts, \n",
    "                                  (int(V_no_contacts.shape[0] / 6), \n",
    "                                   6, \n",
    "                                   V_no_contacts.shape[2], \n",
    "                                   V_no_contacts.shape[3], \n",
    "                                   V_no_contacts.shape[4]))"
   ]
  },
  {
   "cell_type": "code",
   "execution_count": 6,
   "id": "fa5720bb",
   "metadata": {},
   "outputs": [],
   "source": [
    "### MESH PARAMETERS ###\n",
    "ki = mesh_nodes[0] # Mesh initial point\n",
    "cut_reg1 = mesh_nodes[1] # Mesh cutoff of first region\n",
    "cut_reg2 = mesh_nodes[2] # Mesh cutoff of second region\n",
    "kf = mesh_nodes[3] # Mesh cutoff\n",
    "\n",
    "pts_reg1 = pts_per_region[0] # Total points in first region\n",
    "pts_reg2 = pts_per_region[1] # Total points in second region\n",
    "pts_reg3 = pts_per_region[2] # Total points in third region\n",
    "Ntot = pts_reg1 + pts_reg2 + pts_reg3 # Total mesh size"
   ]
  },
  {
   "cell_type": "markdown",
   "id": "ad46b62d",
   "metadata": {},
   "source": [
    "## Get coupling constants from YAML file"
   ]
  },
  {
   "cell_type": "code",
   "execution_count": 7,
   "id": "67dd3c55",
   "metadata": {},
   "outputs": [],
   "source": [
    "if (cutoff == 1):\n",
    "    value = 400\n",
    "elif (cutoff == 2):\n",
    "    value = 450\n",
    "elif (cutoff == 3):\n",
    "    value = 500\n",
    "elif (cutoff == 4):\n",
    "    value = 550\n",
    "    \n",
    "location = '../data/' + str(value) + 'MeV/'\n",
    "\n",
    "yaml = YAML(typ=\"safe\")\n",
    "with open(location + 'sms_lecs_n4lop_lam' + str(value) + '.yaml', \"r\") as input_file:\n",
    "    lecs_yaml = yaml.load(input_file)"
   ]
  },
  {
   "cell_type": "code",
   "execution_count": 8,
   "id": "8c9f8f63",
   "metadata": {},
   "outputs": [],
   "source": [
    "lecs_1S0 = [val for key, val in lecs_yaml.items() if \"1S0\" in key]\n",
    "lecs_3P0 = [val for key, val in lecs_yaml.items() if \"3P0\" in key]\n",
    "lecs_1P1 = [val for key, val in lecs_yaml.items() if \"1P1\" in key]\n",
    "lecs_3P1 = [val for key, val in lecs_yaml.items() if \"3P1\" in key]\n",
    "lecs_1D2 = [val for key, val in lecs_yaml.items() if \"1D2\" in key]\n",
    "lecs_3D2 = [val for key, val in lecs_yaml.items() if \"3D2\" in key]\n",
    "lecs_1F3 = [val for key, val in lecs_yaml.items() if \"1F3\" in key]\n",
    "lecs_3F3 = [val for key, val in lecs_yaml.items() if \"3F3\" in key]\n",
    "\n",
    "lecs_3S1_3D1 = [val for key, val in lecs_yaml.items() if \"3S1\" in key or \"3D1\" in key]\n",
    "lecs_3P2_3F2 = [val for key, val in lecs_yaml.items() if \"3P2\" in key or \"3F2\" in key]\n",
    "lecs_3D3_3G3 = [val for key, val in lecs_yaml.items() if \"3D3\" in key or \"3G3\" in key]\n",
    "lecs_3F4_3H4 = [val for key, val in lecs_yaml.items() if \"3F4\" in key or \"3H4\" in key]"
   ]
  },
  {
   "cell_type": "markdown",
   "id": "1133a8b0",
   "metadata": {},
   "source": [
    "# Emulator calculation"
   ]
  },
  {
   "cell_type": "markdown",
   "id": "c7d3f705",
   "metadata": {},
   "source": [
    "## Uncoupled channels"
   ]
  },
  {
   "cell_type": "markdown",
   "id": "7a757092",
   "metadata": {},
   "source": [
    "### Partial wave: 1S0"
   ]
  },
  {
   "cell_type": "code",
   "execution_count": 9,
   "id": "fffa5ad1",
   "metadata": {},
   "outputs": [
    {
     "name": "stderr",
     "output_type": "stream",
     "text": [
      "OMP: Info #276: omp_set_nested routine deprecated, please use omp_set_max_active_levels instead.\n"
     ]
    }
   ],
   "source": [
    "jmom, wave = 0, '1S0'\n",
    "n_b_1S0 = mult_factor * len(lecs_1S0)\n",
    "\n",
    "basis_1S0 = LHS_setup(lecs_1S0, vary_params, n_b_1S0, num_test, \n",
    "                      inc_param=inc_param, fix_seed=seed)[0]\n",
    "\n",
    "emu_1S0 = KVP_emulator(k, ps, ws, V0_1S0, V1_1S0, wave, is_coupled=False)\n",
    "emu_1S0.train(basis_1S0, glockle=True, method=emu_method)\n",
    "emu_pred_glockle_1S0 = emu_1S0.prediction(lecs_1S0, glockle=True, \n",
    "                                          sol=solver, h=nugget)\n",
    "\n",
    "emu_1S0.train(basis_1S0, glockle=False, method=emu_method)\n",
    "emu_pred_std_1S0 = emu_1S0.prediction(lecs_1S0, glockle=False, \n",
    "                                      sol=solver, h=nugget)"
   ]
  },
  {
   "cell_type": "code",
   "execution_count": 10,
   "id": "4172102a",
   "metadata": {},
   "outputs": [],
   "source": [
    "scatt_1S0 = NVP_emulator(\n",
    "    V0=2 / np.pi * V0_1S0,\n",
    "    V1=2 / np.pi * V1_1S0,\n",
    "    k=ps, dk=ws, t_lab=E,\n",
    "    system=ScatteringSystem(interaction),\n",
    "    boundary_condition=BoundaryCondition.STANDING,\n",
    "    nugget=nugget,\n",
    ")\n",
    "scatt_1S0.fit(basis_1S0);"
   ]
  },
  {
   "cell_type": "markdown",
   "id": "ea6a9fdb",
   "metadata": {},
   "source": [
    "### Partial wave: 3P0"
   ]
  },
  {
   "cell_type": "code",
   "execution_count": 11,
   "id": "6598e971",
   "metadata": {},
   "outputs": [],
   "source": [
    "jmom, wave = 0, '3P0'\n",
    "n_b_3P0 = mult_factor * len(lecs_3P0)\n",
    "\n",
    "basis_3P0 = LHS_setup(lecs_3P0, vary_params, n_b_3P0, num_test, \n",
    "                      inc_param=inc_param, fix_seed=seed)[0]\n",
    "\n",
    "emu_3P0 = KVP_emulator(k, ps, ws, V0_3P0, V1_3P0, wave, is_coupled=False)\n",
    "emu_3P0.train(basis_3P0, glockle=True, method=emu_method)\n",
    "emu_3P0.train(basis_3P0, glockle=False, method=emu_method)"
   ]
  },
  {
   "cell_type": "code",
   "execution_count": 12,
   "id": "e311bd75",
   "metadata": {},
   "outputs": [],
   "source": [
    "scatt_3P0 = NVP_emulator(\n",
    "    V0=2 / np.pi * V0_3P0,\n",
    "    V1=2 / np.pi * V1_3P0,\n",
    "    k=ps, dk=ws, t_lab=E,\n",
    "    system=ScatteringSystem(interaction),\n",
    "    boundary_condition=BoundaryCondition.STANDING,\n",
    "    nugget=nugget,\n",
    ")\n",
    "scatt_3P0.fit(basis_3P0);"
   ]
  },
  {
   "cell_type": "markdown",
   "id": "e1b23809",
   "metadata": {},
   "source": [
    "### Partial wave: 1P1"
   ]
  },
  {
   "cell_type": "code",
   "execution_count": 13,
   "id": "204426c7",
   "metadata": {},
   "outputs": [],
   "source": [
    "jmom, wave = 1, '1P1'\n",
    "n_b_1P1 = mult_factor * len(lecs_1P1)\n",
    "\n",
    "basis_1P1 = LHS_setup(lecs_1P1, vary_params, n_b_1P1, num_test, \n",
    "                      inc_param=inc_param, fix_seed=seed)[0]\n",
    "\n",
    "emu_1P1 = KVP_emulator(k, ps, ws, V0_1P1, V1_1P1, wave, is_coupled=False)\n",
    "emu_1P1.train(basis_1P1, glockle=True, method=emu_method)\n",
    "emu_1P1.train(basis_1P1, glockle=False, method=emu_method)"
   ]
  },
  {
   "cell_type": "code",
   "execution_count": 14,
   "id": "a6be9a95",
   "metadata": {},
   "outputs": [],
   "source": [
    "scatt_1P1 = NVP_emulator(\n",
    "    V0=2 / np.pi * V0_1P1,\n",
    "    V1=2 / np.pi * V1_1P1,\n",
    "    k=ps, dk=ws, t_lab=E,\n",
    "    system=ScatteringSystem(interaction),\n",
    "    boundary_condition=BoundaryCondition.STANDING,\n",
    "    nugget=nugget,\n",
    ")\n",
    "scatt_1P1.fit(basis_1P1);"
   ]
  },
  {
   "cell_type": "markdown",
   "id": "4adf0cb9",
   "metadata": {},
   "source": [
    "### Partial wave: 3P1"
   ]
  },
  {
   "cell_type": "code",
   "execution_count": 15,
   "id": "79006481",
   "metadata": {},
   "outputs": [],
   "source": [
    "jmom, wave = 1, '3P1'\n",
    "n_b_3P1 = mult_factor * len(lecs_3P1)\n",
    "\n",
    "basis_3P1 = LHS_setup(lecs_3P1, vary_params, n_b_3P1, num_test, \n",
    "                      inc_param=inc_param, fix_seed=seed)[0]\n",
    "\n",
    "emu_3P1 = KVP_emulator(k, ps, ws, V0_3P1, V1_3P1, wave, is_coupled=False)\n",
    "emu_3P1.train(basis_3P1, glockle=True, method=emu_method)\n",
    "emu_3P1.train(basis_3P1, glockle=False, method=emu_method)"
   ]
  },
  {
   "cell_type": "code",
   "execution_count": 16,
   "id": "76dddfce",
   "metadata": {},
   "outputs": [],
   "source": [
    "scatt_3P1 = NVP_emulator(\n",
    "    V0=2 / np.pi * V0_3P1,\n",
    "    V1=2 / np.pi * V1_3P1,\n",
    "    k=ps, dk=ws, t_lab=E,\n",
    "    system=ScatteringSystem(interaction),\n",
    "    boundary_condition=BoundaryCondition.STANDING,\n",
    "    nugget=nugget,\n",
    ")\n",
    "scatt_3P1.fit(basis_3P1);"
   ]
  },
  {
   "cell_type": "markdown",
   "id": "4ca0480c",
   "metadata": {},
   "source": [
    "### Partial wave: 1D2"
   ]
  },
  {
   "cell_type": "code",
   "execution_count": 17,
   "id": "2043bd50",
   "metadata": {},
   "outputs": [],
   "source": [
    "jmom, wave = 2, '1D2'\n",
    "n_b_1D2 = mult_factor * len(lecs_1D2)\n",
    "\n",
    "basis_1D2 = LHS_setup(lecs_1D2, vary_params, n_b_1D2, num_test, \n",
    "                      inc_param=inc_param, fix_seed=seed)[0]\n",
    "\n",
    "emu_1D2 = KVP_emulator(k, ps, ws, V0_1D2, V1_1D2, wave, is_coupled=False)\n",
    "emu_1D2.train(basis_1D2, glockle=True, method=emu_method)\n",
    "emu_1D2.train(basis_1D2, glockle=False, method=emu_method)"
   ]
  },
  {
   "cell_type": "code",
   "execution_count": 18,
   "id": "753ff4e5",
   "metadata": {},
   "outputs": [],
   "source": [
    "scatt_1D2 = NVP_emulator(\n",
    "    V0=2 / np.pi * V0_1D2,\n",
    "    V1=2 / np.pi * V1_1D2,\n",
    "    k=ps, dk=ws, t_lab=E,\n",
    "    system=ScatteringSystem(interaction),\n",
    "    boundary_condition=BoundaryCondition.STANDING,\n",
    "    nugget=nugget,\n",
    ")\n",
    "scatt_1D2.fit(basis_1D2);"
   ]
  },
  {
   "cell_type": "markdown",
   "id": "e628b4d5",
   "metadata": {},
   "source": [
    "### Partial wave: 3D2"
   ]
  },
  {
   "cell_type": "code",
   "execution_count": 19,
   "id": "b806d34e",
   "metadata": {},
   "outputs": [],
   "source": [
    "jmom, wave = 2, '3D2'\n",
    "n_b_3D2 = mult_factor * len(lecs_3D2)\n",
    "\n",
    "basis_3D2 = LHS_setup(lecs_3D2, vary_params, n_b_3D2, num_test, \n",
    "                      inc_param=inc_param, fix_seed=seed)[0]\n",
    "\n",
    "emu_3D2 = KVP_emulator(k, ps, ws, V0_3D2, V1_3D2, wave, is_coupled=False)\n",
    "emu_3D2.train(basis_3D2, glockle=True, method=emu_method)\n",
    "emu_3D2.train(basis_3D2, glockle=False, method=emu_method)"
   ]
  },
  {
   "cell_type": "code",
   "execution_count": 20,
   "id": "18b78d9b",
   "metadata": {},
   "outputs": [],
   "source": [
    "scatt_3D2 = NVP_emulator(\n",
    "    V0=2 / np.pi * V0_3D2,\n",
    "    V1=2 / np.pi * V1_3D2,\n",
    "    k=ps, dk=ws, t_lab=E,\n",
    "    system=ScatteringSystem(interaction),\n",
    "    boundary_condition=BoundaryCondition.STANDING,\n",
    "    nugget=nugget,\n",
    ")\n",
    "scatt_3D2.fit(basis_3D2);"
   ]
  },
  {
   "cell_type": "markdown",
   "id": "2d312022",
   "metadata": {},
   "source": [
    "### Partial wave: 1F3"
   ]
  },
  {
   "cell_type": "code",
   "execution_count": 21,
   "id": "847c58ce",
   "metadata": {},
   "outputs": [],
   "source": [
    "jmom, wave = 3, '1F3'\n",
    "n_b_1F3 = mult_factor * len(lecs_1F3)\n",
    "\n",
    "basis_1F3 = LHS_setup(lecs_1F3, vary_params, n_b_1F3, num_test, \n",
    "                      inc_param=inc_param, fix_seed=seed)[0]\n",
    "\n",
    "emu_1F3 = KVP_emulator(k, ps, ws, V0_1F3, V1_1F3, wave, is_coupled=False)\n",
    "emu_1F3.train(basis_1F3, glockle=True, method=emu_method)\n",
    "emu_1F3.train(basis_1F3, glockle=False, method=emu_method)"
   ]
  },
  {
   "cell_type": "code",
   "execution_count": 22,
   "id": "71edaa83",
   "metadata": {},
   "outputs": [],
   "source": [
    "scatt_1F3 = NVP_emulator(\n",
    "    V0=2 / np.pi * V0_1F3,\n",
    "    V1=2 / np.pi * V1_1F3,\n",
    "    k=ps, dk=ws, t_lab=E,\n",
    "    system=ScatteringSystem(interaction),\n",
    "    boundary_condition=BoundaryCondition.STANDING,\n",
    "    nugget=nugget,\n",
    ")\n",
    "scatt_1F3.fit(basis_1F3);"
   ]
  },
  {
   "cell_type": "markdown",
   "id": "da39e8d0",
   "metadata": {},
   "source": [
    "### Partial wave: 3F3"
   ]
  },
  {
   "cell_type": "code",
   "execution_count": 23,
   "id": "7f945129",
   "metadata": {},
   "outputs": [],
   "source": [
    "jmom, wave = 3, '3F3'\n",
    "n_b_3F3 = mult_factor * len(lecs_3F3)\n",
    "\n",
    "basis_3F3 = LHS_setup(lecs_3F3, vary_params, n_b_3F3, num_test, \n",
    "                      inc_param=inc_param, fix_seed=seed)[0]\n",
    "\n",
    "emu_3F3 = KVP_emulator(k, ps, ws, V0_3F3, V1_3F3, wave, is_coupled=False)\n",
    "emu_3F3.train(basis_3F3, glockle=True, method=emu_method)\n",
    "emu_3F3.train(basis_3F3, glockle=False, method=emu_method)"
   ]
  },
  {
   "cell_type": "code",
   "execution_count": 24,
   "id": "ddcc604d",
   "metadata": {},
   "outputs": [],
   "source": [
    "scatt_3F3 = NVP_emulator(\n",
    "    V0=2 / np.pi * V0_3F3,\n",
    "    V1=2 / np.pi * V1_3F3,\n",
    "    k=ps, dk=ws, t_lab=E,\n",
    "    system=ScatteringSystem(interaction),\n",
    "    boundary_condition=BoundaryCondition.STANDING,\n",
    "    nugget=nugget,\n",
    ")\n",
    "scatt_3F3.fit(basis_3F3);"
   ]
  },
  {
   "cell_type": "markdown",
   "id": "d824ab34",
   "metadata": {},
   "source": [
    "## Coupled channels"
   ]
  },
  {
   "cell_type": "markdown",
   "id": "97992484",
   "metadata": {},
   "source": [
    "### Partial wave: 3S1/3D1"
   ]
  },
  {
   "cell_type": "code",
   "execution_count": 25,
   "id": "9fcb7d85",
   "metadata": {},
   "outputs": [],
   "source": [
    "jmom, wave = 1, '3S1/3D1'\n",
    "n_b_3S1_3D1 = mult_factor * len(lecs_3S1_3D1)\n",
    "\n",
    "basis_3S1_3D1 = LHS_setup(lecs_3S1_3D1, vary_params, n_b_3S1_3D1, num_test, \n",
    "                          inc_param=inc_param, fix_seed=seed)[0]\n",
    "\n",
    "emu_3S1_3D1 = KVP_emulator(k, ps, ws, V0_3S1_3D1, V1_3S1_3D1, wave, is_coupled=True)\n",
    "emu_3S1_3D1.train(basis_3S1_3D1, glockle=True, method=emu_method)\n",
    "emu_3S1_3D1.train(basis_3S1_3D1, glockle=False, method=emu_method)"
   ]
  },
  {
   "cell_type": "code",
   "execution_count": 26,
   "id": "bdd65de0",
   "metadata": {},
   "outputs": [],
   "source": [
    "scatt_3S1_3D1 = NVP_emulator(\n",
    "    V0=2 / np.pi * V0_3S1_3D1,\n",
    "    V1=2 / np.pi * V1_3S1_3D1,\n",
    "    k=ps, dk=ws, t_lab=E,\n",
    "    system=ScatteringSystem(interaction),\n",
    "    boundary_condition=BoundaryCondition.STANDING,\n",
    "    is_coupled=True,\n",
    "    nugget=nugget,\n",
    ")\n",
    "scatt_3S1_3D1.fit(basis_3S1_3D1);"
   ]
  },
  {
   "cell_type": "markdown",
   "id": "d58aa8ed",
   "metadata": {},
   "source": [
    "### Partial wave: 3P2/3F2"
   ]
  },
  {
   "cell_type": "code",
   "execution_count": 27,
   "id": "3a75a21b",
   "metadata": {},
   "outputs": [],
   "source": [
    "jmom, wave = 2, '3P2/3F2'\n",
    "n_b_3P2_3F2 = mult_factor * len(lecs_3P2_3F2)\n",
    "\n",
    "basis_3P2_3F2 = LHS_setup(lecs_3P2_3F2, vary_params, n_b_3P2_3F2, num_test, \n",
    "                          inc_param=inc_param, fix_seed=seed)[0]\n",
    "\n",
    "emu_3P2_3F2 = KVP_emulator(k, ps, ws, V0_3P2_3F2, V1_3P2_3F2, wave, is_coupled=True)\n",
    "emu_3P2_3F2.train(basis_3P2_3F2, glockle=True, method=emu_method)\n",
    "emu_3P2_3F2.train(basis_3P2_3F2, glockle=False, method=emu_method)"
   ]
  },
  {
   "cell_type": "code",
   "execution_count": 28,
   "id": "b8ce6d9a",
   "metadata": {},
   "outputs": [],
   "source": [
    "scatt_3P2_3F2 = NVP_emulator(\n",
    "    V0=2 / np.pi * V0_3P2_3F2,\n",
    "    V1=2 / np.pi * V1_3P2_3F2,\n",
    "    k=ps, dk=ws, t_lab=E,\n",
    "    system=ScatteringSystem(interaction),\n",
    "    boundary_condition=BoundaryCondition.STANDING,\n",
    "    is_coupled=True,\n",
    "    nugget=nugget,\n",
    ")\n",
    "scatt_3P2_3F2.fit(basis_3P2_3F2);"
   ]
  },
  {
   "cell_type": "markdown",
   "id": "e79ae538",
   "metadata": {},
   "source": [
    "### Partial wave: 3D3/3G3"
   ]
  },
  {
   "cell_type": "code",
   "execution_count": 29,
   "id": "17eadc11",
   "metadata": {},
   "outputs": [],
   "source": [
    "jmom, wave = 3, '3D3/3G3'\n",
    "n_b_3D3_3G3 = mult_factor * len(lecs_3D3_3G3)\n",
    "\n",
    "basis_3D3_3G3 = LHS_setup(lecs_3D3_3G3, vary_params, n_b_3D3_3G3, num_test, \n",
    "                          inc_param=inc_param, fix_seed=seed)[0]\n",
    "\n",
    "emu_3D3_3G3 = KVP_emulator(k, ps, ws, V0_3D3_3G3, V1_3D3_3G3, wave, is_coupled=True)\n",
    "emu_3D3_3G3.train(basis_3D3_3G3, glockle=True, method=emu_method)\n",
    "emu_3D3_3G3.train(basis_3D3_3G3, glockle=False, method=emu_method)"
   ]
  },
  {
   "cell_type": "code",
   "execution_count": 30,
   "id": "7d938e22",
   "metadata": {},
   "outputs": [],
   "source": [
    "scatt_3D3_3G3 = NVP_emulator(\n",
    "    V0=2 / np.pi * V0_3D3_3G3,\n",
    "    V1=2 / np.pi * V1_3D3_3G3,\n",
    "    k=ps, dk=ws, t_lab=E,\n",
    "    system=ScatteringSystem(interaction),\n",
    "    boundary_condition=BoundaryCondition.STANDING,\n",
    "    is_coupled=True,\n",
    "    nugget=nugget,\n",
    ")\n",
    "scatt_3D3_3G3.fit(basis_3D3_3G3);"
   ]
  },
  {
   "cell_type": "markdown",
   "id": "4630a47b",
   "metadata": {},
   "source": [
    "### Partial wave: 3F4/3H4"
   ]
  },
  {
   "cell_type": "code",
   "execution_count": 31,
   "id": "b22b09af",
   "metadata": {},
   "outputs": [],
   "source": [
    "jmom, wave = 4, '3F4/3H4'\n",
    "n_b_3F4_3H4 = mult_factor * len(lecs_3F4_3H4)\n",
    "\n",
    "basis_3F4_3H4 = LHS_setup(lecs_3F4_3H4, vary_params, n_b_3F4_3H4, num_test, \n",
    "                          inc_param=inc_param, fix_seed=seed)[0]\n",
    "\n",
    "emu_3F4_3H4 = KVP_emulator(k, ps, ws, V0_3F4_3H4, V1_3F4_3H4, wave, is_coupled=True)\n",
    "emu_3F4_3H4.train(basis_3F4_3H4, glockle=True, method=emu_method)\n",
    "emu_3F4_3H4.train(basis_3F4_3H4, glockle=False, method=emu_method)"
   ]
  },
  {
   "cell_type": "code",
   "execution_count": 32,
   "id": "5e740ec3",
   "metadata": {},
   "outputs": [],
   "source": [
    "scatt_3F4_3H4 = NVP_emulator(\n",
    "    V0=2 / np.pi * V0_3F4_3H4,\n",
    "    V1=2 / np.pi * V1_3F4_3H4,\n",
    "    k=ps, dk=ws, t_lab=E,\n",
    "    system=ScatteringSystem(interaction),\n",
    "    boundary_condition=BoundaryCondition.STANDING,\n",
    "    is_coupled=True,\n",
    "    nugget=nugget,\n",
    ")\n",
    "scatt_3F4_3H4.fit(basis_3F4_3H4);"
   ]
  },
  {
   "cell_type": "markdown",
   "id": "a4f51114",
   "metadata": {},
   "source": [
    "## Emulating the total cross section"
   ]
  },
  {
   "cell_type": "markdown",
   "id": "dee6edc8",
   "metadata": {},
   "source": [
    "### Getting KVP emulators"
   ]
  },
  {
   "cell_type": "code",
   "execution_count": 33,
   "id": "607755c6",
   "metadata": {},
   "outputs": [],
   "source": [
    "jmom, wave = 4, None\n",
    "\n",
    "emu_1 = KVP_emulator(k, ps, ws, V_1, 0, wave, is_coupled=False)\n",
    "emu_2 = KVP_emulator(k, ps, ws, V_2, 0, wave, is_coupled=False)"
   ]
  },
  {
   "cell_type": "code",
   "execution_count": 34,
   "id": "0765bea5",
   "metadata": {},
   "outputs": [],
   "source": [
    "inputs_uncoupled = [\n",
    "    [0, lecs_1S0, V_1S0, emu_1S0],\n",
    "    [0, lecs_3P0, V_3P0, emu_3P0],\n",
    "    [1, lecs_1P1, V_1P1, emu_1P1],\n",
    "    [1, lecs_3P1, V_3P1, emu_3P1],\n",
    "    [2, lecs_1D2, V_1D2, emu_1D2],\n",
    "    [2, lecs_3D2, V_3D2, emu_3D2],\n",
    "    [3, lecs_1F3, V_1F3, emu_1F3],\n",
    "    [3, lecs_3F3, V_3F3, emu_3F3],\n",
    "    [4, None, V_1, emu_1],\n",
    "    [4, None, V_2, emu_2],\n",
    "]\n",
    "\n",
    "inputs_coupled = [\n",
    "    [1, lecs_3S1_3D1, V_3S1_3D1, emu_3S1_3D1],\n",
    "    [2, lecs_3P2_3F2, V_3P2_3F2, emu_3P2_3F2],\n",
    "    [3, lecs_3D3_3G3, V_3D3_3G3, emu_3D3_3G3],\n",
    "    [4, lecs_3F4_3H4, V_3F4_3H4, emu_3F4_3H4],\n",
    "]\n",
    "\n",
    "inputs_no_contacts = [\n",
    "    [j + 5, \n",
    "     None, \n",
    "     V_no_contacts_reshape[j][idx], \n",
    "     KVP_emulator(k, ps, ws, V_no_contacts_reshape[j][idx], 0, None)\n",
    "    ] \n",
    "    for j in range(jmax - 4) for idx in range(6)\n",
    "]\n",
    "\n",
    "inputs_all = inputs_uncoupled + inputs_coupled + inputs_no_contacts\n",
    "js, lecs, potentials, emulators = list(zip(*inputs_all))"
   ]
  },
  {
   "cell_type": "markdown",
   "id": "f7657b12",
   "metadata": {},
   "source": [
    "### Getting NVP emulators"
   ]
  },
  {
   "cell_type": "code",
   "execution_count": 35,
   "id": "7ab04888",
   "metadata": {},
   "outputs": [],
   "source": [
    "scatt_1 = NVP_emulator(\n",
    "    V0=2 / np.pi * V_1,\n",
    "    V1=2 / np.pi * np.zeros_like(V_1[..., None]),\n",
    "    k=ps, dk=ws, t_lab=E,\n",
    "    system=ScatteringSystem(interaction),\n",
    "    boundary_condition=BoundaryCondition.STANDING,\n",
    "    nugget=nugget,\n",
    ")\n",
    "\n",
    "scatt_2 = NVP_emulator(\n",
    "    V0=2 / np.pi * V_2,\n",
    "    V1=2 / np.pi * np.zeros_like(V_2[..., None]),\n",
    "    k=ps, dk=ws, t_lab=E,\n",
    "    system=ScatteringSystem(interaction),\n",
    "    boundary_condition=BoundaryCondition.STANDING,\n",
    "    nugget=nugget,\n",
    ")"
   ]
  },
  {
   "cell_type": "code",
   "execution_count": 36,
   "id": "8ab51924",
   "metadata": {},
   "outputs": [],
   "source": [
    "inputs_uncoupled_nvp = [\n",
    "    [0, lecs_1S0, scatt_1S0],\n",
    "    [0, lecs_3P0, scatt_3P0],\n",
    "    [1, lecs_1P1, scatt_1P1],\n",
    "    [1, lecs_3P1, scatt_3P1],\n",
    "    [2, lecs_1D2, scatt_1D2],\n",
    "    [2, lecs_3D2, scatt_3D2],\n",
    "    [3, lecs_1F3, scatt_1F3],\n",
    "    [3, lecs_3F3, scatt_3F3],\n",
    "    [4, None, scatt_1],\n",
    "    [4, None, scatt_2],\n",
    "]\n",
    "\n",
    "inputs_coupled_nvp = [\n",
    "    [1, lecs_3S1_3D1, scatt_3S1_3D1],\n",
    "    [2, lecs_3P2_3F2, scatt_3P2_3F2],\n",
    "    [3, lecs_3D3_3G3, scatt_3D3_3G3],\n",
    "    [4, lecs_3F4_3H4, scatt_3F4_3H4],\n",
    "]\n",
    "\n",
    "inputs_no_contacts_nvp = [\n",
    "    [j + 5, \n",
    "     None,  \n",
    "     NVP_emulator(\n",
    "        V0=2 / np.pi * V_no_contacts_reshape[j][idx],\n",
    "        V1=2 / np.pi * np.zeros_like(V_no_contacts_reshape[j][idx][..., None]),\n",
    "        k=ps, dk=ws, t_lab=E,\n",
    "        system=ScatteringSystem(interaction),\n",
    "        boundary_condition=BoundaryCondition.STANDING,\n",
    "        nugget=nugget,\n",
    "    )\n",
    "    ] \n",
    "    for j in range(jmax - 4) for idx in range(6)\n",
    "]\n",
    "\n",
    "inputs_all_nvp = inputs_uncoupled_nvp + inputs_coupled_nvp + inputs_no_contacts_nvp\n",
    "\n",
    "j_nvp, lecs_nvp, emulators_nvp = list(zip(*inputs_all_nvp))"
   ]
  },
  {
   "cell_type": "markdown",
   "id": "aaf2e397",
   "metadata": {},
   "source": [
    "### Getting LECs"
   ]
  },
  {
   "cell_type": "code",
   "execution_count": 37,
   "id": "8bf9d021",
   "metadata": {},
   "outputs": [
    {
     "name": "stdout",
     "output_type": "stream",
     "text": [
      "(500, 25)\n"
     ]
    }
   ],
   "source": [
    "true_lecs = lecs_1S0 +  lecs_3P0 + lecs_1P1 + \\\n",
    "            lecs_3P1 + lecs_1D2 + lecs_3D2 + \\\n",
    "            lecs_1F3 + lecs_3F3 + lecs_3S1_3D1 + \\\n",
    "            lecs_3P2_3F2 + lecs_3D3_3G3 + lecs_3F4_3H4\n",
    "\n",
    "lec_test_all = LHS_setup(true_lecs, vary_params, 0, num_test, fix_seed=seed)[1]\n",
    "true_lecs_arr = np.array(true_lecs)\n",
    "print(lec_test_all.shape)"
   ]
  },
  {
   "cell_type": "markdown",
   "id": "e66666bd",
   "metadata": {},
   "source": [
    "## Total cross section emulation"
   ]
  },
  {
   "cell_type": "code",
   "execution_count": 38,
   "id": "ea7cf376",
   "metadata": {},
   "outputs": [],
   "source": [
    "compute_obs = Observables(E, k, degrees)\n",
    "get_cs = EmulateCrossSection(js, lecs, emulators, solver)\n",
    "nvp_obs = ObservablesEmulator(emulators_nvp, lecs_nvp, \n",
    "                              j_nvp, compute_obs)"
   ]
  },
  {
   "cell_type": "markdown",
   "id": "11a9b234",
   "metadata": {},
   "source": [
    "### Total cross section - Simulator"
   ]
  },
  {
   "cell_type": "code",
   "execution_count": 39,
   "id": "27705370",
   "metadata": {},
   "outputs": [
    {
     "name": "stdout",
     "output_type": "stream",
     "text": [
      "CPU times: user 47.2 s, sys: 2.17 s, total: 49.4 s\n",
      "Wall time: 7.07 s\n"
     ]
    }
   ],
   "source": [
    "%%time\n",
    "cs_sim = get_cs.emulate_cross_section(true_lecs, potentials, nugget, \n",
    "                                      glockle=None, emulate=False, remove_kohn=False)"
   ]
  },
  {
   "cell_type": "markdown",
   "id": "e453cf9f",
   "metadata": {},
   "source": [
    "### Total cross section - KVP with Std"
   ]
  },
  {
   "cell_type": "code",
   "execution_count": 40,
   "id": "07a0a1cb",
   "metadata": {},
   "outputs": [
    {
     "name": "stdout",
     "output_type": "stream",
     "text": [
      "CPU times: user 1.56 s, sys: 103 ms, total: 1.66 s\n",
      "Wall time: 222 ms\n"
     ]
    }
   ],
   "source": [
    "%%time\n",
    "cs_emu_std = get_cs.emulate_cross_section(true_lecs, potentials, nugget, \n",
    "                                          glockle=False, emulate=True, remove_kohn=False)"
   ]
  },
  {
   "cell_type": "markdown",
   "id": "0f86d769",
   "metadata": {},
   "source": [
    "### Total cross section - KVP with Glockle"
   ]
  },
  {
   "cell_type": "code",
   "execution_count": 41,
   "id": "70e79105",
   "metadata": {},
   "outputs": [
    {
     "name": "stdout",
     "output_type": "stream",
     "text": [
      "CPU times: user 1.47 s, sys: 68.1 ms, total: 1.54 s\n",
      "Wall time: 198 ms\n"
     ]
    }
   ],
   "source": [
    "%%time\n",
    "cs_emu_glockle = get_cs.emulate_cross_section(true_lecs, potentials, nugget, \n",
    "                                              glockle=True, emulate=True, remove_kohn=False)"
   ]
  },
  {
   "cell_type": "markdown",
   "id": "39176687",
   "metadata": {},
   "source": [
    "### Total cross section - NVP"
   ]
  },
  {
   "cell_type": "code",
   "execution_count": 42,
   "id": "64126721",
   "metadata": {},
   "outputs": [
    {
     "name": "stdout",
     "output_type": "stream",
     "text": [
      "CPU times: user 1min 4s, sys: 3.43 s, total: 1min 8s\n",
      "Wall time: 9.56 s\n"
     ]
    }
   ],
   "source": [
    "%%time\n",
    "cs_sim_nvp = nvp_obs.predict(true_lecs_arr, full_space=True)"
   ]
  },
  {
   "cell_type": "code",
   "execution_count": 43,
   "id": "c889d1ad",
   "metadata": {},
   "outputs": [
    {
     "name": "stdout",
     "output_type": "stream",
     "text": [
      "CPU times: user 508 ms, sys: 35.8 ms, total: 543 ms\n",
      "Wall time: 71 ms\n"
     ]
    }
   ],
   "source": [
    "%%time\n",
    "cs_emu_nvp = nvp_obs.predict(true_lecs_arr, full_space=False)"
   ]
  },
  {
   "cell_type": "code",
   "execution_count": 44,
   "id": "a9879cc7",
   "metadata": {},
   "outputs": [],
   "source": [
    "cs_rel_err_std = compute_errors(cs_sim, cs_emu_std)[1]\n",
    "cs_rel_err_glockle = compute_errors(cs_sim, cs_emu_glockle)[1]\n",
    "cs_rel_err_nvp = compute_errors(cs_sim_nvp, cs_emu_nvp)[1]\n",
    "\n",
    "if cs_rel_err_std.shape[0] == 1:\n",
    "    cs_rel_err_std = np.squeeze(cs_rel_err_std)\n",
    "    cs_rel_err_glockle = np.squeeze(cs_rel_err_glockle)\n",
    "    cs_rel_err_nvp = np.squeeze(cs_rel_err_nvp)\n",
    "else:\n",
    "    cs_min_rel_err_std = np.minimum(cs_rel_err_std[0], cs_rel_err_std[1])\n",
    "    cs_min_rel_err_glockle = np.minimum(cs_rel_err_glockle[0], cs_rel_err_glockle[1])\n",
    "    cs_min_rel_err_nvp = np.minimum(cs_rel_err_nvp[0], cs_rel_err_nvp[1])"
   ]
  },
  {
   "cell_type": "markdown",
   "id": "32ff3e60",
   "metadata": {},
   "source": [
    "## Total cross section: predict with sampled parameter sets"
   ]
  },
  {
   "cell_type": "code",
   "execution_count": 45,
   "id": "7f3344f9",
   "metadata": {},
   "outputs": [],
   "source": [
    "cs_sim_sample = np.zeros((num_test, E.shape[0]))\n",
    "cs_emu_std_sample = np.zeros((num_test, E.shape[0]))\n",
    "cs_emu_glockle_sample = np.zeros((num_test, E.shape[0]))\n",
    "cs_sim_nvp_sample = np.zeros((num_test, E.shape[0]))\n",
    "cs_emu_nvp_sample = np.zeros((num_test, E.shape[0]))"
   ]
  },
  {
   "cell_type": "markdown",
   "id": "dfbbf689",
   "metadata": {},
   "source": [
    "### Sampled cross section - KVP emulator with Std"
   ]
  },
  {
   "cell_type": "code",
   "execution_count": 46,
   "id": "52051a0b",
   "metadata": {},
   "outputs": [
    {
     "name": "stdout",
     "output_type": "stream",
     "text": [
      "8min 21s ± 0 ns per loop (mean ± std. dev. of 1 run, 1 loop each)\n"
     ]
    }
   ],
   "source": [
    "test_cs_emu_std = %timeit -c -o -n 1 -r 1 get_cs.predict(cs_emu_std_sample, lec_test_all, potentials, nugget, glockle=False, emulate=True, remove_kohn=False)\n"
   ]
  },
  {
   "cell_type": "markdown",
   "id": "97bac85e",
   "metadata": {},
   "source": [
    "### Sampled cross section - KVP emulator with Glockle"
   ]
  },
  {
   "cell_type": "code",
   "execution_count": 47,
   "id": "54608383",
   "metadata": {
    "scrolled": true
   },
   "outputs": [
    {
     "name": "stdout",
     "output_type": "stream",
     "text": [
      "8min 15s ± 0 ns per loop (mean ± std. dev. of 1 run, 1 loop each)\n"
     ]
    }
   ],
   "source": [
    "test_cs_emu_glockle = %timeit -c -o -n 1 -r 1 get_cs.predict(cs_emu_glockle_sample, lec_test_all, potentials, nugget, glockle=True, emulate=True, remove_kohn=False)\n"
   ]
  },
  {
   "cell_type": "markdown",
   "id": "26c6f0e9",
   "metadata": {},
   "source": [
    "### Sampled cross section - Simulator"
   ]
  },
  {
   "cell_type": "code",
   "execution_count": 48,
   "id": "f9594b3d",
   "metadata": {},
   "outputs": [
    {
     "name": "stdout",
     "output_type": "stream",
     "text": [
      "1h 49min 35s ± 0 ns per loop (mean ± std. dev. of 1 run, 1 loop each)\n"
     ]
    }
   ],
   "source": [
    "test_cs_sim = %timeit -c -o -n 1 -r 1 get_cs.predict(cs_sim_sample, lec_test_all, potentials, nugget, glockle=None, emulate=False, remove_kohn=False)\n"
   ]
  },
  {
   "cell_type": "markdown",
   "id": "d333e1af",
   "metadata": {},
   "source": [
    "### Sampled cross section - NVP"
   ]
  },
  {
   "cell_type": "code",
   "execution_count": 49,
   "id": "db572e0e",
   "metadata": {},
   "outputs": [
    {
     "name": "stdout",
     "output_type": "stream",
     "text": [
      "2min 8s ± 0 ns per loop (mean ± std. dev. of 1 run, 1 loop each)\n"
     ]
    }
   ],
   "source": [
    "test_cs_emu_nvp = %timeit -c -o -n 1 -r 1 nvp_obs.predict(lec_test_all, full_space=False, out=cs_emu_nvp_sample)"
   ]
  },
  {
   "cell_type": "code",
   "execution_count": 50,
   "id": "e0d33d25",
   "metadata": {
    "scrolled": true
   },
   "outputs": [
    {
     "name": "stdout",
     "output_type": "stream",
     "text": [
      "1h 35min 50s ± 0 ns per loop (mean ± std. dev. of 1 run, 1 loop each)\n"
     ]
    }
   ],
   "source": [
    "test_cs_sim_nvp = %timeit -c -o -n 1 -r 1 nvp_obs.predict(lec_test_all, full_space=True, out=cs_sim_nvp_sample)"
   ]
  },
  {
   "cell_type": "markdown",
   "id": "16af255a",
   "metadata": {},
   "source": [
    "### Sampled cross section - Timing"
   ]
  },
  {
   "cell_type": "code",
   "execution_count": 51,
   "id": "4fe778e4",
   "metadata": {},
   "outputs": [
    {
     "data": {
      "text/plain": [
       "13.119576176136357"
      ]
     },
     "execution_count": 51,
     "metadata": {},
     "output_type": "execute_result"
    }
   ],
   "source": [
    "test_cs_sim.average / test_cs_emu_std.average"
   ]
  },
  {
   "cell_type": "code",
   "execution_count": 52,
   "id": "37f74a89",
   "metadata": {},
   "outputs": [
    {
     "data": {
      "text/plain": [
       "13.271943745640403"
      ]
     },
     "execution_count": 52,
     "metadata": {},
     "output_type": "execute_result"
    }
   ],
   "source": [
    "test_cs_sim.average / test_cs_emu_glockle.average"
   ]
  },
  {
   "cell_type": "code",
   "execution_count": 53,
   "id": "a3bfd11b",
   "metadata": {},
   "outputs": [
    {
     "data": {
      "text/plain": [
       "44.616321466577034"
      ]
     },
     "execution_count": 53,
     "metadata": {},
     "output_type": "execute_result"
    }
   ],
   "source": [
    "test_cs_sim_nvp.average / test_cs_emu_nvp.average"
   ]
  },
  {
   "cell_type": "markdown",
   "id": "9e10d774",
   "metadata": {},
   "source": [
    "### Sampled cross section - Results"
   ]
  },
  {
   "cell_type": "code",
   "execution_count": 54,
   "id": "1e05ba33",
   "metadata": {},
   "outputs": [],
   "source": [
    "cs_rel_sample_std = compute_errors(cs_sim_sample, \n",
    "                                   cs_emu_std_sample)[1]\n",
    "cs_rel_mean_std = np.mean(cs_rel_sample_std, axis=0)\n",
    "\n",
    "cs_rel_sample_glockle = compute_errors(cs_sim_sample, \n",
    "                                       cs_emu_glockle_sample)[1]\n",
    "cs_rel_mean_glockle = np.mean(cs_rel_sample_glockle, axis=0)\n",
    "\n",
    "cs_rel_sample_nvp = compute_errors(cs_sim_nvp_sample, \n",
    "                                   cs_emu_nvp_sample)[1]\n",
    "cs_rel_mean_nvp = np.mean(cs_rel_sample_nvp, axis=0)"
   ]
  },
  {
   "cell_type": "code",
   "execution_count": 55,
   "id": "639c3b00",
   "metadata": {},
   "outputs": [
    {
     "data": {
      "image/png": "[encoded data removed]",
      "text/plain": [
       "<Figure size 510x480 with 2 Axes>"
      ]
     },
     "metadata": {},
     "output_type": "display_data"
    }
   ],
   "source": [
    "cs_errors = [cs_rel_mean_glockle, cs_rel_mean_std, cs_rel_mean_nvp]\n",
    "plot_cross_section(E, value, jmax, cs_sim, cs_emu_std[0], cs_errors)"
   ]
  },
  {
   "cell_type": "markdown",
   "id": "6c64b076",
   "metadata": {},
   "source": [
    "## Analyzing the Kohn anomalies and spikes: 1S0"
   ]
  },
  {
   "cell_type": "code",
   "execution_count": 56,
   "id": "48889319",
   "metadata": {},
   "outputs": [],
   "source": [
    "file_name = '../data/SMS_n4lo+_Lambda450MeV_jmax-20_np_5_036_402020_spikes.h5'\n",
    "\n",
    "with h5py.File(file_name, \"r\") as f:\n",
    "    E_spikes = f['E'][...]\n",
    "    k_spikes = f['k'][...]\n",
    "    ps_spikes = f['ps'][...]\n",
    "    ws_spikes = f['ws'][...]\n",
    "    \n",
    "    V0_1S0_spikes = f['V0_1S0'][...]\n",
    "    V1_1S0_spikes = f['V1_1S0'][...]"
   ]
  },
  {
   "cell_type": "code",
   "execution_count": 57,
   "id": "3e2933cb",
   "metadata": {},
   "outputs": [],
   "source": [
    "emu_method_1S0 = 'all'\n",
    "emu_method_1S0_spikes = '1/K'\n",
    "\n",
    "jmom, wave = 0, '1S0'\n",
    "n_b_1S0 = mult_factor * len(lecs_1S0) + 1\n",
    "\n",
    "basis_1S0 = LHS_setup(lecs_1S0, vary_params, n_b_1S0, num_test, \n",
    "                      inc_param=inc_param, fix_seed=seed)[0]\n",
    "emu_1S0 = KVP_emulator(k, ps, ws, V0_1S0, V1_1S0, wave, is_coupled=False)"
   ]
  },
  {
   "cell_type": "code",
   "execution_count": 58,
   "id": "bef56c8a",
   "metadata": {},
   "outputs": [],
   "source": [
    "emu_1S0.train(basis_1S0, glockle=True, method=emu_method_1S0)\n",
    "emu_glockle = emu_1S0.prediction(lecs_1S0, glockle=True, \n",
    "                                 sol=solver, h=nugget)\n",
    "\n",
    "emu_1S0.train(basis_1S0, glockle=False, method=emu_method_1S0)\n",
    "emu_std = emu_1S0.prediction(lecs_1S0, glockle=False, \n",
    "                             sol=solver, h=nugget)\n",
    "\n",
    "sim = emu_1S0.high_fidelity(lecs_1S0)\n",
    "\n",
    "emu_glockle_mix = compute_mixed_S(emu_glockle)\n",
    "emu_std_mix = compute_mixed_S(emu_std)\n",
    "\n",
    "rel_err_glockle_fixed = abs((sim - emu_glockle_mix) / sim)\n",
    "rel_err_std_fixed = abs((sim - emu_std_mix) / sim)"
   ]
  },
  {
   "cell_type": "code",
   "execution_count": 59,
   "id": "a88301f3",
   "metadata": {},
   "outputs": [],
   "source": [
    "emu_1S0_spikes = KVP_emulator(k_spikes, ps_spikes, ws_spikes, V0_1S0_spikes, \n",
    "                              V1_1S0_spikes, wave, is_coupled=False)\n",
    "\n",
    "emu_1S0_spikes.train(basis_1S0, glockle=True, method=emu_method_1S0_spikes)\n",
    "emu_glockle_spikes = emu_1S0_spikes.prediction(lecs_1S0, glockle=True, \n",
    "                                               sol=solver, h=nugget)\n",
    "\n",
    "emu_1S0_spikes.train(basis_1S0, glockle=False, method=emu_method_1S0_spikes)\n",
    "emu_std_spikes = emu_1S0_spikes.prediction(lecs_1S0, glockle=False, \n",
    "                                           sol=solver, h=nugget)\n",
    "sim_spikes = emu_1S0_spikes.high_fidelity(lecs_1S0)\n",
    "\n",
    "rel_err_glockle = abs((sim_spikes - emu_glockle_spikes) / sim_spikes)[0]\n",
    "rel_err_std = abs((sim_spikes - emu_std_spikes) / sim_spikes)[0]"
   ]
  },
  {
   "cell_type": "code",
   "execution_count": 60,
   "id": "9e160ceb",
   "metadata": {},
   "outputs": [
    {
     "data": {
      "image/png": "[encoded data removed]",
      "text/plain": [
       "<Figure size 1050x345 with 2 Axes>"
      ]
     },
     "metadata": {},
     "output_type": "display_data"
    }
   ],
   "source": [
    "error_spikes = [rel_err_glockle, rel_err_std]\n",
    "error_spikes_fixed = [rel_err_glockle_fixed, rel_err_std_fixed]\n",
    "\n",
    "plot_errors_spikes(E, value, wave, error_spikes, error_spikes_fixed)"
   ]
  },
  {
   "cell_type": "code",
   "execution_count": null,
   "id": "08e7ac58",
   "metadata": {},
   "outputs": [],
   "source": []
  }
 ],
 "metadata": {
  "kernelspec": {
   "display_name": "Python 3 (ipykernel)",
   "language": "python",
   "name": "python3"
  },
  "language_info": {
   "codemirror_mode": {
    "name": "ipython",
    "version": 3
   },
   "file_extension": ".py",
   "mimetype": "text/x-python",
   "name": "python",
   "nbconvert_exporter": "python",
   "pygments_lexer": "ipython3",
   "version": "3.9.7"
  },
  "toc": {
   "base_numbering": 1,
   "nav_menu": {},
   "number_sections": true,
   "sideBar": true,
   "skip_h1_title": false,
   "title_cell": "Table of Contents",
   "title_sidebar": "Contents",
   "toc_cell": false,
   "toc_position": {},
   "toc_section_display": true,
   "toc_window_display": false
  }
 },
 "nbformat": 4,
 "nbformat_minor": 5
}
