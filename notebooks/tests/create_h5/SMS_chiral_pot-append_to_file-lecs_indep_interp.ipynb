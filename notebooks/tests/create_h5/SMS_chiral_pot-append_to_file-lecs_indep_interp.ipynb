{
 "cells": [
  {
   "cell_type": "markdown",
   "id": "676bfee9",
   "metadata": {},
   "source": [
    "# Purpose\n",
    "The purpose of this notebook is to calculate the SMS chiral potential up to $j = 20$ and save them in a h5 file. Here, we append $k_0$ to the mesh and calculate the potentials at this point for the LEC-dependent partial waves. Interpolation is done for the non-LEC-dependent partial waves."
   ]
  },
  {
   "cell_type": "markdown",
   "id": "836bab70",
   "metadata": {},
   "source": [
    "# Notebook Setup\n",
    "\n",
    "## Import Python libraries"
   ]
  },
  {
   "cell_type": "code",
   "execution_count": 1,
   "id": "2ce96e29",
   "metadata": {},
   "outputs": [],
   "source": [
    "import sys\n",
    "import h5py\n",
    "import numpy as np\n",
    "from ruamel.yaml import YAML\n",
    "\n",
    "%load_ext autoreload\n",
    "%autoreload 2\n",
    "\n",
    "sys.path.insert(0, '../../')"
   ]
  },
  {
   "cell_type": "markdown",
   "id": "35906367",
   "metadata": {},
   "source": [
    "## Import local libraries"
   ]
  },
  {
   "cell_type": "code",
   "execution_count": 2,
   "id": "0301f911",
   "metadata": {},
   "outputs": [],
   "source": [
    "from emulate_kvp import BuildMesh\n",
    "from emulate_kvp import SMSChiralPotential\n",
    "from emulate_kvp import uncoupled_potential, coupled_potential\n",
    "from emulate_kvp.kinematics import e_lab_to_k_cm, avoid_pv_sing\n",
    "from emulate_kvp import mass_proton, mass_neutron\n",
    "from emulate_kvp.potential_functions import GetFullPotential"
   ]
  },
  {
   "cell_type": "markdown",
   "id": "27d6feca",
   "metadata": {},
   "source": [
    "# Calculate potentials"
   ]
  },
  {
   "cell_type": "markdown",
   "id": "a739fbbe",
   "metadata": {},
   "source": [
    "## Parameters"
   ]
  },
  {
   "cell_type": "code",
   "execution_count": 3,
   "id": "b5b237dd",
   "metadata": {},
   "outputs": [],
   "source": [
    "### MESH INPUT PARAMETERS ###\n",
    "ki = 0\n",
    "cut_reg1 = 3 # Mesh cutoff of first region\n",
    "cut_reg2 = 6 # Mesh cutoff of second region\n",
    "kf = 8\n",
    "\n",
    "pts_reg1 = 40 # Total points in first region\n",
    "pts_reg2 = 20 # Total points in second region\n",
    "pts_reg3 = 20 # Total points in third region\n",
    "Ntot = pts_reg1 + pts_reg2 + pts_reg3\n",
    "\n",
    "### POTENTIAL INPUT PARAMETERS ###\n",
    "interaction = 'np' # Choice of interaction\n",
    "chiral_order = 5 # Order of EFT\n",
    "cutoff = 4 # Choice of cutoff\n",
    "jmax = 20 # Momentum"
   ]
  },
  {
   "cell_type": "markdown",
   "id": "363bc6d8",
   "metadata": {},
   "source": [
    "## Build mesh"
   ]
  },
  {
   "cell_type": "code",
   "execution_count": 4,
   "id": "ca43bb47",
   "metadata": {},
   "outputs": [],
   "source": [
    "mesh_nodes = [ki, cut_reg1, cut_reg2, kf]\n",
    "pts_per_region = [pts_reg1, pts_reg2, pts_reg3]\n",
    "mesh = BuildMesh(mesh_nodes, pts_per_region)\n",
    "nodes, weights = mesh.nodes, mesh.weights\n",
    "\n",
    "E_MeV = np.linspace(1, 350, num=350)\n",
    "degrees = np.arange(0.1, 180)\n",
    "\n",
    "E_MeV = avoid_pv_sing(E_MeV, nodes, mass_neutron, mass_proton, True)[0]\n",
    "E_MeV[0] = 0.1\n",
    "k_cm = e_lab_to_k_cm(E_MeV, mass_neutron, mass_proton, relativistic=True)[1]"
   ]
  },
  {
   "cell_type": "markdown",
   "id": "ad46b62d",
   "metadata": {},
   "source": [
    "## Get coupling constants"
   ]
  },
  {
   "cell_type": "code",
   "execution_count": 5,
   "id": "67dd3c55",
   "metadata": {},
   "outputs": [],
   "source": [
    "if (cutoff == 1):\n",
    "    value = 400\n",
    "elif (cutoff == 2):\n",
    "    value = 450\n",
    "elif (cutoff == 3):\n",
    "    value = 500\n",
    "elif (cutoff == 4):\n",
    "    value = 550\n",
    "    \n",
    "location = '../../../data/' + str(value) + 'MeV/'\n",
    "\n",
    "yaml = YAML(typ=\"safe\")\n",
    "with open(location + 'sms_lecs_n4lop_lam' + str(value) + '.yaml', \"r\") as input_file:\n",
    "    lecs_yaml = yaml.load(input_file)"
   ]
  },
  {
   "cell_type": "code",
   "execution_count": 6,
   "id": "31bf9d06",
   "metadata": {},
   "outputs": [],
   "source": [
    "lecs_1S0 = [val for key, val in lecs_yaml.items() if \"1S0\" in key]\n",
    "lecs_3P0 = [val for key, val in lecs_yaml.items() if \"3P0\" in key]\n",
    "lecs_1P1 = [val for key, val in lecs_yaml.items() if \"1P1\" in key]\n",
    "lecs_3P1 = [val for key, val in lecs_yaml.items() if \"3P1\" in key]\n",
    "lecs_1D2 = [val for key, val in lecs_yaml.items() if \"1D2\" in key]\n",
    "lecs_3D2 = [val for key, val in lecs_yaml.items() if \"3D2\" in key]\n",
    "lecs_1F3 = [val for key, val in lecs_yaml.items() if \"1F3\" in key]\n",
    "lecs_3F3 = [val for key, val in lecs_yaml.items() if \"3F3\" in key]\n",
    "\n",
    "lecs_3S1_3D1 = [val for key, val in lecs_yaml.items() if \"3S1\" in key or \"3D1\" in key]\n",
    "lecs_3P2_3F2 = [val for key, val in lecs_yaml.items() if \"3P2\" in key or \"3F2\" in key]\n",
    "lecs_3D3_3G3 = [val for key, val in lecs_yaml.items() if \"3D3\" in key or \"3G3\" in key]\n",
    "lecs_3F4_3H4 = [val for key, val in lecs_yaml.items() if \"3F4\" in key or \"3H4\" in key]"
   ]
  },
  {
   "cell_type": "markdown",
   "id": "13357e6c",
   "metadata": {},
   "source": [
    "## Calculate potential"
   ]
  },
  {
   "cell_type": "code",
   "execution_count": 7,
   "id": "29dbc330",
   "metadata": {},
   "outputs": [
    {
     "name": "stdout",
     "output_type": "stream",
     "text": [
      "Semilocal momentum-space chiral NN potential at N4LO [Q^5] + N5LO [Q^6]\n",
      "Contacts in 3F2, 1F3, 3F3, 3F4\n",
      "Cutoff value: lambda = 550 MeV\n",
      "\n",
      "\n",
      "jmom = 0\n",
      "jmom = 1\n",
      "jmom = 2\n",
      "jmom = 3\n",
      "jmom = 4\n",
      "jmom = 5\n",
      "jmom = 6\n",
      "jmom = 7\n",
      "jmom = 8\n",
      "jmom = 9\n",
      "jmom = 10\n",
      "jmom = 11\n",
      "jmom = 12\n",
      "jmom = 13\n",
      "jmom = 14\n",
      "jmom = 15\n",
      "jmom = 16\n",
      "jmom = 17\n",
      "jmom = 18\n",
      "jmom = 19\n",
      "jmom = 20\n",
      "CPU times: user 13min 41s, sys: 7.8 s, total: 13min 49s\n",
      "Wall time: 14min 6s\n"
     ]
    }
   ],
   "source": [
    "%%time\n",
    "my_sms = SMSChiralPotential(chiral_order, interaction, cutoff)\n",
    "spectral, contacts = my_sms.get_chiral_potential(nodes, jmax)"
   ]
  },
  {
   "cell_type": "code",
   "execution_count": 8,
   "id": "e5da3271",
   "metadata": {},
   "outputs": [
    {
     "name": "stdout",
     "output_type": "stream",
     "text": [
      "E: 25\n",
      "E: 50\n",
      "E: 75\n",
      "E: 100\n",
      "E: 125\n",
      "E: 150\n",
      "E: 175\n",
      "E: 200\n",
      "E: 225\n",
      "E: 250\n",
      "E: 275\n",
      "E: 300\n",
      "E: 325\n",
      "E: 350\n",
      "CPU times: user 1h 11min 35s, sys: 24.3 s, total: 1h 12min\n",
      "Wall time: 1h 11min 47s\n"
     ]
    }
   ],
   "source": [
    "%%time\n",
    "full_pot = GetFullPotential(k_cm, nodes, jmax, my_sms)"
   ]
  },
  {
   "cell_type": "markdown",
   "id": "98be08c7",
   "metadata": {},
   "source": [
    "## Uncoupled partial waves"
   ]
  },
  {
   "cell_type": "markdown",
   "id": "67cf4701",
   "metadata": {},
   "source": [
    "### Partial wave: 1S0"
   ]
  },
  {
   "cell_type": "code",
   "execution_count": 9,
   "id": "20c27fd5",
   "metadata": {},
   "outputs": [],
   "source": [
    "jmom, wave = 0, '1S0'\n",
    "pot_1S0, spec_1S0, cont_1S0 = uncoupled_potential(jmom, lecs_1S0, \n",
    "                                                  spectral, contacts, wave)\n",
    "V_1S0, V0_1S0, V1_1S0 = full_pot.no_interp_pot(jmom, wave, lecs_1S0, \n",
    "                                               pot_1S0, spec_1S0, cont_1S0)"
   ]
  },
  {
   "cell_type": "markdown",
   "id": "19e2f794",
   "metadata": {},
   "source": [
    "### Partial wave: 3P0"
   ]
  },
  {
   "cell_type": "code",
   "execution_count": 10,
   "id": "f4012ca9",
   "metadata": {},
   "outputs": [],
   "source": [
    "jmom, wave = 0, '3P0'\n",
    "pot_3P0, spec_3P0, cont_3P0 = uncoupled_potential(jmom, lecs_3P0, \n",
    "                                                  spectral, contacts, wave)\n",
    "V_3P0, V0_3P0, V1_3P0 = full_pot.no_interp_pot(jmom, wave, lecs_3P0, \n",
    "                                               pot_3P0, spec_3P0, cont_3P0)"
   ]
  },
  {
   "cell_type": "markdown",
   "id": "7161de75",
   "metadata": {},
   "source": [
    "### Partial wave: 1P1"
   ]
  },
  {
   "cell_type": "code",
   "execution_count": 11,
   "id": "b4eaf28e",
   "metadata": {},
   "outputs": [],
   "source": [
    "jmom, wave = 1, '1P1'\n",
    "pot_1P1, spec_1P1, cont_1P1 = uncoupled_potential(jmom, lecs_1P1, \n",
    "                                                  spectral, contacts, wave)\n",
    "V_1P1, V0_1P1, V1_1P1 = full_pot.no_interp_pot(jmom, wave, lecs_1P1, \n",
    "                                               pot_1P1, spec_1P1, cont_1P1)"
   ]
  },
  {
   "cell_type": "markdown",
   "id": "9edaf2ad",
   "metadata": {},
   "source": [
    "### Partial wave: 3P1"
   ]
  },
  {
   "cell_type": "code",
   "execution_count": 12,
   "id": "4d559928",
   "metadata": {},
   "outputs": [],
   "source": [
    "jmom, wave = 1, '3P1'\n",
    "pot_3P1, spec_3P1, cont_3P1 = uncoupled_potential(jmom, lecs_3P1, \n",
    "                                                  spectral, contacts, wave)\n",
    "V_3P1, V0_3P1, V1_3P1 = full_pot.no_interp_pot(jmom, wave, lecs_3P1, \n",
    "                                               pot_3P1, spec_3P1, cont_3P1)"
   ]
  },
  {
   "cell_type": "markdown",
   "id": "dfb04dd7",
   "metadata": {},
   "source": [
    "### Partial wave: 1D2"
   ]
  },
  {
   "cell_type": "code",
   "execution_count": 13,
   "id": "6cbd0f77",
   "metadata": {},
   "outputs": [],
   "source": [
    "jmom, wave = 2, '1D2'\n",
    "pot_1D2, spec_1D2, cont_1D2 = uncoupled_potential(jmom, lecs_1D2, \n",
    "                                                  spectral, contacts, wave)\n",
    "V_1D2, V0_1D2, V1_1D2 = full_pot.no_interp_pot(jmom, wave, lecs_1D2, \n",
    "                                               pot_1D2, spec_1D2, cont_1D2)"
   ]
  },
  {
   "cell_type": "markdown",
   "id": "e6454b32",
   "metadata": {},
   "source": [
    "### Partial wave: 3D2"
   ]
  },
  {
   "cell_type": "code",
   "execution_count": 14,
   "id": "54d85028",
   "metadata": {},
   "outputs": [],
   "source": [
    "jmom, wave = 2, '3D2'\n",
    "pot_3D2, spec_3D2, cont_3D2 = uncoupled_potential(jmom, lecs_3D2, \n",
    "                                                  spectral, contacts, wave)\n",
    "V_3D2, V0_3D2, V1_3D2 = full_pot.no_interp_pot(jmom, wave, lecs_3D2, \n",
    "                                               pot_3D2, spec_3D2, cont_3D2)"
   ]
  },
  {
   "cell_type": "markdown",
   "id": "ebdeac9b",
   "metadata": {},
   "source": [
    "### Partial wave: 1F3"
   ]
  },
  {
   "cell_type": "code",
   "execution_count": 15,
   "id": "96f8cc8a",
   "metadata": {},
   "outputs": [],
   "source": [
    "jmom, wave = 3, '1F3'\n",
    "pot_1F3, spec_1F3, cont_1F3 = uncoupled_potential(jmom, lecs_1F3, \n",
    "                                                  spectral, contacts, wave)\n",
    "V_1F3, V0_1F3, V1_1F3 = full_pot.no_interp_pot(jmom, wave, lecs_1F3, \n",
    "                                               pot_1F3, spec_1F3, cont_1F3)"
   ]
  },
  {
   "cell_type": "markdown",
   "id": "894cd980",
   "metadata": {},
   "source": [
    "### Partial wave: 3F3"
   ]
  },
  {
   "cell_type": "code",
   "execution_count": 16,
   "id": "63dca842",
   "metadata": {},
   "outputs": [],
   "source": [
    "jmom, wave = 3, '3F3'\n",
    "pot_3F3, spec_3F3, cont_3F3 = uncoupled_potential(jmom, lecs_3F3, \n",
    "                                                  spectral, contacts, wave)\n",
    "V_3F3, V0_3F3, V1_3F3 = full_pot.no_interp_pot(jmom, wave, lecs_3F3, \n",
    "                                               pot_3F3, spec_3F3, cont_3F3)"
   ]
  },
  {
   "cell_type": "markdown",
   "id": "32bc88d9",
   "metadata": {},
   "source": [
    "## Coupled partial waves"
   ]
  },
  {
   "cell_type": "markdown",
   "id": "347ca018",
   "metadata": {},
   "source": [
    "### Partial wave: 3S1/3D1"
   ]
  },
  {
   "cell_type": "code",
   "execution_count": 17,
   "id": "f7f27537",
   "metadata": {},
   "outputs": [],
   "source": [
    "jmom, wave = 1, '3S1/3D1'\n",
    "pot_3S1_3D1, spec_3S1_3D1, cont_3S1_3D1 = coupled_potential(jmom, lecs_3S1_3D1, \n",
    "                                                            spectral, contacts, wave)\n",
    "V_3S1_3D1, V0_3S1_3D1, V1_3S1_3D1 = full_pot.no_interp_pot(jmom, wave, \n",
    "                                                           lecs_3S1_3D1, pot_3S1_3D1, \n",
    "                                                           spec_3S1_3D1, cont_3S1_3D1)"
   ]
  },
  {
   "cell_type": "markdown",
   "id": "7da404f0",
   "metadata": {},
   "source": [
    "### Partial wave: 3P2/3F2"
   ]
  },
  {
   "cell_type": "code",
   "execution_count": 18,
   "id": "768f3308",
   "metadata": {},
   "outputs": [],
   "source": [
    "jmom, wave = 2, '3P2/3F2'\n",
    "pot_3P2_3F2, spec_3P2_3F2, cont_3P2_3F2 = coupled_potential(jmom, lecs_3P2_3F2, \n",
    "                                                            spectral, contacts, wave)\n",
    "V_3P2_3F2, V0_3P2_3F2, V1_3P2_3F2 = full_pot.no_interp_pot(jmom, wave, \n",
    "                                                           lecs_3P2_3F2, pot_3P2_3F2, \n",
    "                                                           spec_3P2_3F2, cont_3P2_3F2)"
   ]
  },
  {
   "cell_type": "markdown",
   "id": "5c6064f6",
   "metadata": {},
   "source": [
    "### Partial wave: 3D3/3G3"
   ]
  },
  {
   "cell_type": "code",
   "execution_count": 19,
   "id": "925ea733",
   "metadata": {},
   "outputs": [],
   "source": [
    "jmom, wave = 3, '3D3/3G3'\n",
    "pot_3D3_3G3, spec_3D3_3G3, cont_3D3_3G3 = coupled_potential(jmom, lecs_3D3_3G3, \n",
    "                                                            spectral, contacts, wave)\n",
    "V_3D3_3G3, V0_3D3_3G3, V1_3D3_3G3 = full_pot.no_interp_pot(jmom, wave, \n",
    "                                                           lecs_3D3_3G3, pot_3D3_3G3, \n",
    "                                                           spec_3D3_3G3, cont_3D3_3G3)"
   ]
  },
  {
   "cell_type": "markdown",
   "id": "f27f12e3",
   "metadata": {},
   "source": [
    "### Partial wave: 3F4/3H4"
   ]
  },
  {
   "cell_type": "code",
   "execution_count": 20,
   "id": "b1930080",
   "metadata": {},
   "outputs": [],
   "source": [
    "jmom, wave = 4, '3F4/3H4'\n",
    "pot_3F4_3H4, spec_3F4_3H4, cont_3F4_3H4 = coupled_potential(jmom, lecs_3F4_3H4, \n",
    "                                                            spectral, contacts, wave)\n",
    "V_3F4_3H4, V0_3F4_3H4, V1_3F4_3H4 = full_pot.no_interp_pot(jmom, wave, \n",
    "                                                           lecs_3F4_3H4, pot_3F4_3H4, \n",
    "                                                           spec_3F4_3H4, cont_3F4_3H4)"
   ]
  },
  {
   "cell_type": "markdown",
   "id": "6345ed43",
   "metadata": {},
   "source": [
    "### Partial wave: j = 4 no contact dependence"
   ]
  },
  {
   "cell_type": "code",
   "execution_count": 21,
   "id": "7959cf6d",
   "metadata": {},
   "outputs": [],
   "source": [
    "jmom = 4\n",
    "V_1 = full_pot.uncoupled_potential_no_contacts_interp(spectral[jmom][0])\n",
    "V_2 = full_pot.uncoupled_potential_no_contacts_interp(spectral[jmom][1])"
   ]
  },
  {
   "cell_type": "markdown",
   "id": "366934b0",
   "metadata": {},
   "source": [
    "### Partial wave: j > 4 no contact dependence"
   ]
  },
  {
   "cell_type": "code",
   "execution_count": 22,
   "id": "aef89c7e",
   "metadata": {},
   "outputs": [],
   "source": [
    "V_no_contacts = [\n",
    "    [\n",
    "     full_pot.uncoupled_potential_no_contacts_interp(spectral[j + 5][idx]),\n",
    "    ] \n",
    "    for j in range(jmax - 4) for idx in range(len(spectral[j + 5]))\n",
    "]"
   ]
  },
  {
   "cell_type": "markdown",
   "id": "afc42902",
   "metadata": {},
   "source": [
    "## Save non-interpolated potential to h5 file"
   ]
  },
  {
   "cell_type": "code",
   "execution_count": 23,
   "id": "ef18fbfe",
   "metadata": {},
   "outputs": [],
   "source": [
    "file_name = '../../../data/SMS_n4lo+_' + 'Lambda' + str(value) + 'MeV_jmax-' \\\n",
    "            + str(jmax) + '_' + interaction + '_' + str(chiral_order) \\\n",
    "            + '_' + str(ki) + str(cut_reg1) + str(cut_reg2) \\\n",
    "            + '_' + str(pts_reg1) + str(pts_reg2) + str(pts_reg3) + '.h5'\n",
    "hf_sms = h5py.File(file_name, 'w')\n",
    "\n",
    "hf_sms.create_dataset('jmax', data=jmax)\n",
    "hf_sms.create_dataset('interaction', data=interaction)\n",
    "hf_sms.create_dataset('chiral_order', data=chiral_order)\n",
    "hf_sms.create_dataset('cutoff', data=cutoff)\n",
    "\n",
    "hf_sms.create_dataset('E', data=E_MeV)\n",
    "hf_sms.create_dataset('k', data=k_cm)\n",
    "hf_sms.create_dataset('degrees', data=degrees)\n",
    "hf_sms.create_dataset('ps', data=nodes)\n",
    "hf_sms.create_dataset('ws', data=weights)\n",
    "hf_sms.create_dataset('mesh_nodes', data=mesh_nodes)\n",
    "hf_sms.create_dataset('pts_per_region', data=pts_per_region)\n",
    "\n",
    "hf_sms.create_dataset('V_1S0', data=V_1S0)\n",
    "hf_sms.create_dataset('V0_1S0', data=V0_1S0)\n",
    "hf_sms.create_dataset('V1_1S0', data=V1_1S0)\n",
    "\n",
    "hf_sms.create_dataset('V_3P0', data=V_3P0)\n",
    "hf_sms.create_dataset('V0_3P0', data=V0_3P0)\n",
    "hf_sms.create_dataset('V1_3P0', data=V1_3P0)\n",
    "\n",
    "hf_sms.create_dataset('V_1P1', data=V_1P1)\n",
    "hf_sms.create_dataset('V0_1P1', data=V0_1P1)\n",
    "hf_sms.create_dataset('V1_1P1', data=V1_1P1)\n",
    "\n",
    "hf_sms.create_dataset('V_3P1', data=V_3P1)\n",
    "hf_sms.create_dataset('V0_3P1', data=V0_3P1)\n",
    "hf_sms.create_dataset('V1_3P1', data=V1_3P1)\n",
    "\n",
    "hf_sms.create_dataset('V_1D2', data=V_1D2)\n",
    "hf_sms.create_dataset('V0_1D2', data=V0_1D2)\n",
    "hf_sms.create_dataset('V1_1D2', data=V1_1D2)\n",
    "\n",
    "hf_sms.create_dataset('V_3D2', data=V_3D2)\n",
    "hf_sms.create_dataset('V0_3D2', data=V0_3D2)\n",
    "hf_sms.create_dataset('V1_3D2', data=V1_3D2)\n",
    "\n",
    "hf_sms.create_dataset('V_1F3', data=V_1F3)\n",
    "hf_sms.create_dataset('V0_1F3', data=V0_1F3)\n",
    "hf_sms.create_dataset('V1_1F3', data=V1_1F3)\n",
    "\n",
    "hf_sms.create_dataset('V_3F3', data=V_3F3)\n",
    "hf_sms.create_dataset('V0_3F3', data=V0_3F3)\n",
    "hf_sms.create_dataset('V1_3F3', data=V1_3F3)\n",
    "\n",
    "hf_sms.create_dataset('V_1', data=V_1)\n",
    "hf_sms.create_dataset('V_2', data=V_2)\n",
    "\n",
    "hf_sms.create_dataset('V_3S1_3D1', data=V_3S1_3D1)\n",
    "hf_sms.create_dataset('V0_3S1_3D1', data=V0_3S1_3D1)\n",
    "hf_sms.create_dataset('V1_3S1_3D1', data=V1_3S1_3D1)\n",
    "\n",
    "hf_sms.create_dataset('V_3P2_3F2', data=V_3P2_3F2)\n",
    "hf_sms.create_dataset('V0_3P2_3F2', data=V0_3P2_3F2)\n",
    "hf_sms.create_dataset('V1_3P2_3F2', data=V1_3P2_3F2)\n",
    "\n",
    "hf_sms.create_dataset('V_3D3_3G3', data=V_3D3_3G3)\n",
    "hf_sms.create_dataset('V0_3D3_3G3', data=V0_3D3_3G3)\n",
    "hf_sms.create_dataset('V1_3D3_3G3', data=V1_3D3_3G3)\n",
    "\n",
    "hf_sms.create_dataset('V_3F4_3H4', data=V_3F4_3H4)\n",
    "hf_sms.create_dataset('V0_3F4_3H4', data=V0_3F4_3H4)\n",
    "hf_sms.create_dataset('V1_3F4_3H4', data=V1_3F4_3H4)\n",
    "\n",
    "hf_sms.create_dataset('V_no_contacts', data=V_no_contacts)\n",
    "\n",
    "hf_sms.close()"
   ]
  },
  {
   "cell_type": "code",
   "execution_count": null,
   "id": "0e4c34b1",
   "metadata": {},
   "outputs": [],
   "source": []
  }
 ],
 "metadata": {
  "kernelspec": {
   "display_name": "Python 3 (ipykernel)",
   "language": "python",
   "name": "python3"
  },
  "language_info": {
   "codemirror_mode": {
    "name": "ipython",
    "version": 3
   },
   "file_extension": ".py",
   "mimetype": "text/x-python",
   "name": "python",
   "nbconvert_exporter": "python",
   "pygments_lexer": "ipython3",
   "version": "3.9.7"
  },
  "toc": {
   "base_numbering": 1,
   "nav_menu": {},
   "number_sections": true,
   "sideBar": true,
   "skip_h1_title": false,
   "title_cell": "Table of Contents",
   "title_sidebar": "Contents",
   "toc_cell": false,
   "toc_position": {},
   "toc_section_display": true,
   "toc_window_display": false
  }
 },
 "nbformat": 4,
 "nbformat_minor": 5
}
